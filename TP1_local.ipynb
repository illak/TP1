{
 "cells": [
  {
   "cell_type": "markdown",
   "id": "12a7ce35-3742-4342-b166-8ab92a39e276",
   "metadata": {},
   "source": [
    "## Bloque para cargar las distintas credenciales"
   ]
  },
  {
   "cell_type": "code",
   "execution_count": 1,
   "id": "073b567e-1683-4142-8c68-64bbb3013f56",
   "metadata": {},
   "outputs": [
    {
     "name": "stdout",
     "output_type": "stream",
     "text": [
      "Collecting python-dotenv\n",
      "  Downloading python_dotenv-1.0.0-py3-none-any.whl (19 kB)\n",
      "Installing collected packages: python-dotenv\n",
      "Successfully installed python-dotenv-1.0.0\n"
     ]
    }
   ],
   "source": [
    "# IMPORT KEYS USING .env FILE\n",
    "!pip install python-dotenv"
   ]
  },
  {
   "cell_type": "code",
   "execution_count": 5,
   "id": "12bb12de-5b34-4ccd-a2b4-b621c3a5d15d",
   "metadata": {
    "tags": []
   },
   "outputs": [
    {
     "data": {
      "text/plain": [
       "True"
      ]
     },
     "execution_count": 5,
     "metadata": {},
     "output_type": "execute_result"
    }
   ],
   "source": [
    "import os\n",
    "\n",
    "# Example from https://pypi.org/project/python-dotenv/\n",
    "from dotenv import load_dotenv\n",
    "load_dotenv()\n",
    "\n",
    "# OR, the same with increased verbosity\n",
    "load_dotenv(verbose=True)\n",
    "\n",
    "# Print variable FOO\n",
    "#print(os.environ.get('NEWSAPI_KEY'))"
   ]
  },
  {
   "cell_type": "markdown",
   "id": "2c2636cb-c4a4-4901-bf7e-f6bd7f09ade4",
   "metadata": {},
   "source": [
    "## Bloque para obtener JSON de NewsAPI"
   ]
  },
  {
   "cell_type": "code",
   "execution_count": 7,
   "id": "eed9cb8b-59fb-4886-86e5-1500c8d0e28d",
   "metadata": {
    "tags": []
   },
   "outputs": [],
   "source": [
    "# Obtención de datos\n",
    "import requests\n",
    "\n",
    "# para replicar el GET de ejempl:\n",
    "# GET https://newsapi.org/v2/everything?q=Apple&from=2023-05-26&sortBy=popularity&apiKey=API_KEY\n",
    "\n",
    "# Por defecto, la versión gratuita nos trae noticias del último mes (o últimos 30 días)\n",
    "query = {'q': 'data engineer',\n",
    "         'p': 1,\n",
    "         'apiKey': os.environ.get('NEWSAPI_KEY')}\n",
    "\n",
    "response = requests.get('https://newsapi.org/v2/everything', params=query)\n",
    "#print(response.json())\n",
    "#print(response.encoding)\n",
    "#print(response.content.decode('utf-8'))"
   ]
  },
  {
   "cell_type": "code",
   "execution_count": 8,
   "id": "aeeafa5e-ff11-4ff7-8392-3a1199725ecf",
   "metadata": {
    "tags": []
   },
   "outputs": [
    {
     "name": "stdout",
     "output_type": "stream",
     "text": [
      "<class 'dict'>\n"
     ]
    }
   ],
   "source": [
    "# Convertimos a JSON\n",
    "\n",
    "import json\n",
    "\n",
    "#convert string to  object\n",
    "json_object = json.loads(response.content.decode('utf-8'))\n",
    "\n",
    "#check new data type\n",
    "print(type(json_object))"
   ]
  },
  {
   "cell_type": "markdown",
   "id": "73f9c961-7524-41ab-821e-dce0400cbcb8",
   "metadata": {
    "tags": []
   },
   "source": [
    "## Cargamos Pyspark"
   ]
  },
  {
   "cell_type": "code",
   "execution_count": 9,
   "id": "c40690d3-807e-4004-80af-e49f21264a81",
   "metadata": {
    "tags": []
   },
   "outputs": [
    {
     "data": {
      "text/html": [
       "\n",
       "            <div>\n",
       "                <p><b>SparkSession - in-memory</b></p>\n",
       "                \n",
       "        <div>\n",
       "            <p><b>SparkContext</b></p>\n",
       "\n",
       "            <p><a href=\"http://b88d026508c0:4040\">Spark UI</a></p>\n",
       "\n",
       "            <dl>\n",
       "              <dt>Version</dt>\n",
       "                <dd><code>v3.4.0</code></dd>\n",
       "              <dt>Master</dt>\n",
       "                <dd><code>local[*]</code></dd>\n",
       "              <dt>AppName</dt>\n",
       "                <dd><code>Our First Spark Example</code></dd>\n",
       "            </dl>\n",
       "        </div>\n",
       "        \n",
       "            </div>\n",
       "        "
      ],
      "text/plain": [
       "<pyspark.sql.session.SparkSession at 0x7f2af2d3b280>"
      ]
     },
     "execution_count": 9,
     "metadata": {},
     "output_type": "execute_result"
    }
   ],
   "source": [
    "# Cargamos PYSPARK\n",
    "\n",
    "import pyspark\n",
    "\n",
    "from pyspark.sql import DataFrame, SparkSession\n",
    "from typing import List\n",
    "import pyspark.sql.types as T\n",
    "import pyspark.sql.functions as F\n",
    "\n",
    "spark= SparkSession \\\n",
    "       .builder \\\n",
    "       .config(\"spark.jars\", \"/jars/postgresql-42.2.27.jre7.jar\") \\\n",
    "       .appName(\"Our First Spark Example\") \\\n",
    "       .getOrCreate()\n",
    "\n",
    "spark"
   ]
  },
  {
   "cell_type": "markdown",
   "id": "42ff766b-27ea-48ef-a16e-0039bf28d704",
   "metadata": {
    "tags": []
   },
   "source": [
    "## Función principal para obtención de páginas de artículos (extract)"
   ]
  },
  {
   "cell_type": "code",
   "execution_count": 14,
   "id": "9a0cfd98-1778-4ba7-8958-752b0148d766",
   "metadata": {
    "tags": []
   },
   "outputs": [],
   "source": [
    "# Función para obtener páginas de articulos\n",
    "\n",
    "def generateDataframeApiWeather(topic, pages, language = 'en'):\n",
    "\n",
    "    df_list = []\n",
    "    pages_temp = 0\n",
    "\n",
    "    # first query to get number of results and decide number of pages\n",
    "    query =  {  'q': topic,\n",
    "                'language': language,\n",
    "                'apiKey': os.environ.get('NEWSAPI_KEY')}\n",
    "\n",
    "    response = requests.get('https://newsapi.org/v2/everything', params=query)\n",
    "\n",
    "    #convert string to  object\n",
    "    json_object = json.loads(response.content.decode('utf-8'))\n",
    "    print(\"La API encontró {num} artículos sobre el tema consultado\".format(num = json_object['totalResults']))\n",
    "\n",
    "    if(json_object['totalResults'] == 0):\n",
    "        raise Exception(\"No se encontraron resultados sobre el tema consultado! :( \")\n",
    "\n",
    "    elif(json_object['totalResults'] <= 100):\n",
    "        print(\"Se ignora el parámetro de cantidad de páginas...\")\n",
    "\n",
    "        df = spark.createDataFrame(data=json_object['articles']) \\\n",
    "            .withColumn(\"source_name\", F.col(\"source\").getItem(\"name\")).drop(F.col(\"source\")) \\\n",
    "            .withColumn(\"publishedAt\", F.to_timestamp(\"publishedAt\")) \\\n",
    "            #.withColumn(\"idrecord\", F.lit(0))\n",
    "\n",
    "        df_list.append(df)\n",
    "        return df_list\n",
    "\n",
    "    elif(json_object['totalResults'] > 100):\n",
    "        \n",
    "        # Agregamos los primeros 100 artículos\n",
    "        df = spark.createDataFrame(data=json_object['articles']) \\\n",
    "                .withColumn(\"source_name\", F.col(\"source\").getItem(\"name\")) \\\n",
    "                .withColumn(\"source_id\", F.col(\"source\").getItem(\"id\")) \\\n",
    "                .drop(F.col(\"source\")) \\\n",
    "                .withColumn(\"publishedAt\", F.to_timestamp(\"publishedAt\"))\n",
    "\n",
    "        df_list.append(df)\n",
    "\n",
    "        pages_temp = int(json_object['totalResults']/100) + (0 if(json_object['totalResults']%100==0) else 1)\n",
    "\n",
    "        print(\"Se encontraron {pages_total} páginas en total... obteniendo artículos para {pags} páginas...\".format(pags = pages, pages_total = pages_temp))\n",
    "        # Corrección de num de páginas solicitadas (depende de la cantidad de resultados obtenidos)\n",
    "        if (pages_temp < pages):\n",
    "            pages = pages_temp\n",
    "\n",
    "\n",
    "        for p in range(2, pages+1):\n",
    "            query = {'q': topic,\n",
    "                    'page': p+1,\n",
    "                    'language': language,\n",
    "                    'apiKey': os.environ.get('NEWSAPI_KEY')}\n",
    "\n",
    "            response = requests.get('https://newsapi.org/v2/everything', params=query)\n",
    "\n",
    "            #convert string to  object\n",
    "            json_object = json.loads(response.content.decode('utf-8'))\n",
    "\n",
    "            df = spark.createDataFrame(data=json_object['articles']) \\\n",
    "                    .withColumn(\"source_name\", F.col(\"source\").getItem(\"name\")) \\\n",
    "                    .withColumn(\"source_id\", F.col(\"source\").getItem(\"id\")) \\\n",
    "                    .drop(F.col(\"source\")) \\\n",
    "                    .withColumn(\"publishedAt\", F.to_timestamp(\"publishedAt\"))\n",
    "\n",
    "            df_list.append(df)\n",
    "\n",
    "        return df_list\n",
    "    else:\n",
    "        raise(\"Ocurrió un error inesperado!\")"
   ]
  },
  {
   "cell_type": "code",
   "execution_count": 15,
   "id": "c30ff049-734f-48f6-b89e-5b7dd1ba750f",
   "metadata": {
    "tags": []
   },
   "outputs": [
    {
     "name": "stdout",
     "output_type": "stream",
     "text": [
      "La API encontró 2028 artículos sobre el tema consultado\n",
      "Se encontraron 21 páginas en total... obteniendo artículos para 2 páginas...\n",
      "root\n",
      " |-- author: string (nullable = true)\n",
      " |-- content: string (nullable = true)\n",
      " |-- description: string (nullable = true)\n",
      " |-- publishedAt: timestamp (nullable = true)\n",
      " |-- title: string (nullable = true)\n",
      " |-- url: string (nullable = true)\n",
      " |-- urlToImage: string (nullable = true)\n",
      " |-- source_name: string (nullable = true)\n",
      " |-- source_id: string (nullable = true)\n",
      "\n",
      "+--------------------+--------------------+--------------------+-------------------+--------------------+--------------------+--------------------+-------------------+----------------+\n",
      "|              author|             content|         description|        publishedAt|               title|                 url|          urlToImage|        source_name|       source_id|\n",
      "+--------------------+--------------------+--------------------+-------------------+--------------------+--------------------+--------------------+-------------------+----------------+\n",
      "|  Caitlin Harrington|As a result, the ...|Data from top-per...|2023-05-09 12:00:00|Should You Get Pa...|https://www.wired...|https://media.wir...|              Wired|           wired|\n",
      "|        Matt Burgess|Microsoft directo...|Indirect prompt-i...|2023-05-25 06:00:00|The Security Hole...|https://www.wired...|https://media.wir...|              Wired|           wired|\n",
      "|                null|We use cookies an...|US charges former...|2023-05-16 14:56:00|US charges former...|https://consent.g...|                null|        Google News|     google-news|\n",
      "|  Jonathan M. Gitlin|5 with \\r\\nA form...|The engineer stol...|2023-05-16 18:36:10|Feds say Apple en...|https://arstechni...|https://cdn.arste...|       Ars Technica|    ars-technica|\n",
      "|                null|We use cookies an...|Ontario engineer ...|2023-05-23 15:43:08|Ontario engineer ...|https://consent.g...|                null|        Google News|     google-news|\n",
      "|          Nikki Main|Former Apple empl...|The U.S. Departme...|2023-05-16 19:30:00|Ex-Apple Engineer...|https://news.yaho...|https://media.zen...|Yahoo Entertainment|            null|\n",
      "|   Devindra Hardawar|BlackBerry has ev...|BlackBerry has ev...|2023-05-19 14:01:15|'BlackBerry' revi...|https://www.engad...|https://s.yimg.co...|           Engadget|        engadget|\n",
      "|              BeauHD|When SpaceX's Sta...|In a policy rever...|2023-05-04 07:00:00|Starlink Nixes Pl...|https://tech.slas...|https://a.fsdn.co...|       Slashdot.org|            null|\n",
      "|         Matthew Loh|Elon Musk has bee...|After a Twitter e...|2023-05-10 07:59:01|Elon Musk is esca...|https://www.busin...|https://i.insider...|   Business Insider|business-insider|\n",
      "|                null|We at Middleware,...|We at Middleware,...|2023-05-16 21:01:15|Middleware (YC W2...|https://www.ycomb...|https://www.ycomb...|        Hacker News|     hacker-news|\n",
      "|tips@androidcentr...|<ul><li>Samsung's...|Samsung has banne...|2023-05-03 19:39:52|Samsung bans staf...|https://www.andro...|https://cdn.mos.c...|    Android Central|            null|\n",
      "|        Steve Beynon|A top officer in ...|Col. Meghann Sull...|2023-04-25 15:59:59|Female Commander ...|https://news.yaho...|https://s.yimg.co...|Yahoo Entertainment|            null|\n",
      "|       Jason Lalljee|Elijah Butler mad...|A 24-year-old dat...|2023-05-14 10:40:06|I'm a Gen Zer who...|https://www.busin...|https://i.insider...|   Business Insider|business-insider|\n",
      "|Jordan Hart,Aaron...|People are findin...|People are search...|2023-05-21 09:36:06|Your co-workers d...|https://www.busin...|https://i.insider...|   Business Insider|business-insider|\n",
      "|         Donald Papp|Virginia T. Norwo...|Virginia T. Norwo...|2023-05-13 17:00:33|Remembering Virgi...|https://hackaday....|https://hackaday....|           Hackaday|            null|\n",
      "|                null|05 May 2023\\r\\nTh...|Chris James, Lond...|2023-05-05 14:32:19|  Htmx Is the Future|https://quii.dev/...|                null|           Quii.dev|            null|\n",
      "|                null|Open-source codel...|We are looking fo...|2023-05-25 07:01:09|Keyval (YC W23) I...|https://www.ycomb...|https://www.ycomb...|        Hacker News|     hacker-news|\n",
      "|                null|20 August 2018\\r\\...|Chris James, Lond...|2023-05-14 19:57:45|      The Web I Want|https://quii.dev/...|                null|           Quii.dev|            null|\n",
      "|                null|The recent exciti...|It's not technolo...|2023-05-16 16:14:36|AI can’t do hirin...|https://interview...|https://strapi-ii...|    Interviewing.io|            null|\n",
      "|Text and photogra...|Sanhá João Correi...|The ‘seed keepers...|2023-05-02 06:00:00|‘Seeds ensure our...|https://www.thegu...|https://i.guim.co...|       The Guardian|            null|\n",
      "+--------------------+--------------------+--------------------+-------------------+--------------------+--------------------+--------------------+-------------------+----------------+\n",
      "only showing top 20 rows\n",
      "\n"
     ]
    }
   ],
   "source": [
    "from functools import reduce\n",
    "\n",
    "# traemos 5 páginas de 100 articulos cada una sobre \"Ingenieria de Datos\" (en inglés)\n",
    "try:\n",
    "    df_articles = generateDataframeApiWeather('data engineer', 2)\n",
    "    df_complete = reduce(DataFrame.unionAll, df_articles)\n",
    "\n",
    "    df_complete.printSchema()\n",
    "    df_complete.show()\n",
    "except Exception as e:\n",
    "    print(e)"
   ]
  },
  {
   "cell_type": "markdown",
   "id": "63b27e46-463a-4695-adff-b3b63f266229",
   "metadata": {},
   "source": [
    "## Conexión a db en redshift y carga de datos"
   ]
  },
  {
   "cell_type": "code",
   "execution_count": null,
   "id": "2334c6ff-6d47-4cc3-a1e9-8aed9c848e0c",
   "metadata": {},
   "outputs": [],
   "source": [
    "df_complete.write.format(\"jdbc\")\\\n",
    "    .option(\"url\", \"jdbc:postgresql://{host}:{port}/{database}\".format(\n",
    "        host=os.environ.get('REDSHIFT_HOST'),\n",
    "        port=os.environ.get('REDSHIFT_PORT'),\n",
    "        database=os.environ.get('REDSHIFT_DATABASE'))) \\\n",
    "    .option(\"driver\", \"org.postgresql.Driver\") \\\n",
    "    .option(\"dbtable\", \"i_zapata1989_coderhouse.df_news_api_dw\") \\\n",
    "    .option(\"user\", os.environ.get('REDSHIFT_USER')) \\\n",
    "    .option(\"password\", os.environ.get('REDSHIFT_PASS')) \\\n",
    "    .mode('append') \\\n",
    "    .save()"
   ]
  }
 ],
 "metadata": {
  "kernelspec": {
   "display_name": "Python 3 (ipykernel)",
   "language": "python",
   "name": "python3"
  },
  "language_info": {
   "codemirror_mode": {
    "name": "ipython",
    "version": 3
   },
   "file_extension": ".py",
   "mimetype": "text/x-python",
   "name": "python",
   "nbconvert_exporter": "python",
   "pygments_lexer": "ipython3",
   "version": "3.10.10"
  }
 },
 "nbformat": 4,
 "nbformat_minor": 5
}
